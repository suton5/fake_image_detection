{
  "nbformat": 4,
  "nbformat_minor": 0,
  "metadata": {
    "colab": {
      "name": "steg_svm_v2.ipynb",
      "provenance": [],
      "collapsed_sections": [],
      "machine_shape": "hm"
    },
    "kernelspec": {
      "name": "python3",
      "display_name": "Python 3"
    },
    "accelerator": "GPU"
  },
  "cells": [
    {
      "cell_type": "code",
      "metadata": {
        "id": "DuL4pDkxAVkj",
        "colab_type": "code",
        "colab": {}
      },
      "source": [
        "!unzip 'DeepFakes.zip'; mv ManipulatedRes DeepFakes\n",
        "!unzip 'OriginalDeepFakes.zip'; mv  DeepFakesRes OriginalDeepFakes\n",
        "!unzip 'FaceSwap.zip'; mv ManipulatedRes FaceSwap\n",
        "!unzip 'OriginalFaceSwap.zip'; mv  FaceSwapRes OriginalFaceSwap\n",
        "!unzip 'NeuralTextures.zip'; mv ManipulatedRes NeuralTextures\n",
        "!unzip 'OriginalNeuralTextures.zip'; mv  NeuralTexturesRes OriginalNeuralTextures\n",
        "!unzip 'Face2Face.zip'; mv ManipulatedRes Face2Face\n",
        "!unzip 'OriginalFace2Face.zip'; mv  Face2FaceRes OriginalFace2Face\n",
        "!python3 -m pip install libsvm\n",
        "\n",
        "# Common imports\n",
        "import os\n",
        "import numpy as np\n",
        "import pandas as pd"
      ],
      "execution_count": 0,
      "outputs": []
    },
    {
      "cell_type": "markdown",
      "metadata": {
        "id": "gkFBLiOqKvG3",
        "colab_type": "text"
      },
      "source": [
        "Feature computation and extration. "
      ]
    },
    {
      "cell_type": "code",
      "metadata": {
        "id": "WOUcd_9IKthy",
        "colab_type": "code",
        "colab": {}
      },
      "source": [
        "import cv2 as cv\n",
        "from sklearn.cluster import MiniBatchKMeans\n",
        "from skimage.feature import greycomatrix, greycoprops\n",
        "\n",
        "# Algo related \n",
        "KSIZE = 21 \n",
        "CMAX = 256\n",
        "FLT = cv.CV_32F\n",
        "QUANTIZATION_STEP = 5 \t\t\t# Range [0, 255]\n",
        "TRUNC_UPPER_THRESHOLD = 2\t\t# Cutoff for residual vals\n",
        "GLCM_STRIDE = [1]       \t\t# Pel distance for GLCM\n",
        "GLCM_DIRECTIONS = [0, np.pi / 2, 2 * np.pi / 3, 4 * np.pi / 3]\n",
        "\n",
        "# Flags\n",
        "ShouldApplyFaceMask = True \n",
        "\n",
        "filters = {\n",
        "\"laplacian\" : lambda x: cv.Laplacian(x, FLT),\n",
        "\"sobel-x\": lambda x: cv.Sobel(x, FLT, 1, 0, ksize = KSIZE),\n",
        "\"sobel-y\": lambda x: cv.Sobel(x, FLT, 0, 1, ksize = KSIZE),\n",
        "\"gabor\": lambda x: cv.filter2D(x, FLT, cv.getGaborKernel((KSIZE, KSIZE), 8.0, np.pi/4, 10.0, 0.5, 0, ktype=FLT))\n",
        "}\n",
        "\n",
        "class GLCM_METRIC_NAMES:\n",
        "    count = 4             # tmp, but bad idea...\n",
        "\t\tdis = \"dissimilarity\" \n",
        "\t\tcon = \"contrast\"\n",
        "\t\tcor = \"correlation\"\n",
        "\t\thom = \"homogeneity\"\n",
        "\n",
        "def LoadMask(image_path):\n",
        "        if (not os.path.exists(image_path)):\n",
        "                print(\"Failed to load image '{}'\".format(image_path))\n",
        "                return None\n",
        "\n",
        "        return cv.imread(image_path, 0)\n",
        "  \n",
        "def LoadImage(image_path):\n",
        "        if (not os.path.exists(image_path)):\n",
        "                print(\"Failed to load image '{}'\".format(image_path))\n",
        "                return None\n",
        "\n",
        "        return cv.imread(image_path)\n",
        "\n",
        "def IsMatNone(image):\n",
        "        return isinstance(image, type(None))\n",
        "\n",
        "def Normalize(image, should_use_flt=False):\n",
        "        return cv.normalize(image, None, 0, 1, norm_type=cv.NORM_MINMAX, dtype=FLT)\\\n",
        "        if (should_use_flt) else cv.normalize(image, None, 0, 255, norm_type=cv.NORM_MINMAX, dtype=cv.CV_8U)\n",
        "\n",
        "def ToFeatureVec(image):\n",
        "        assert not IsMatNone(image), \"Image type is None\"\n",
        "        return image.reshape(image.shape[0] * image.shape[1], image.shape[2])\n",
        "\n",
        "def ComputeResidualImage(image, filterName, shouldApplyQT=True):\n",
        "        assert not IsMatNone(image), \"no image\"\n",
        "\n",
        "        # 1) quantize pels - Rq_ij = round( Rij / q_step )\n",
        "        # NOTE: Temporarily cvt to LAB color space (Lightness, Alpha=[G,M], Beta=[B,Y])\n",
        "        # to yield ftr vector representing euclidean dists for k-means quantization\n",
        "        res_image = filters[filterName](image)\n",
        "        if (not shouldApplyQT):\n",
        "            return res_image \n",
        "\n",
        "        input_ftr = ToFeatureVec(cv.cvtColor(Normalize(res_image), cv.COLOR_BGR2LAB))\n",
        "        kmc = MiniBatchKMeans(n_clusters = 255 // QUANTIZATION_STEP)\n",
        "        labels = kmc.fit_predict(input_ftr)\n",
        "        quantized_image = kmc.cluster_centers_.astype(\"uint8\")[labels]  \n",
        "        # Cvt back to RGB color space\n",
        "        quantized_image = quantized_image.reshape(res_image.shape)\n",
        "        quantized_image = cv.cvtColor(quantized_image, cv.COLOR_LAB2BGR)\n",
        "        assert(not IsMatNone(quantized_image)), \"no quantized image\"\n",
        "\n",
        "        # 2) truncate pels - truncate( Rq_ij, T )\n",
        "        ret,truncated_image = cv.threshold(quantized_image, TRUNC_UPPER_THRESHOLD, CMAX - 1, cv.THRESH_TRUNC)\n",
        "        return cv.cvtColor(truncated_image, cv.COLOR_BGR2GRAY)\n",
        "\n",
        "def ComputeCoOccurrance(res_image_grey, patch_size):\n",
        "\t\tassert not IsMatNone(res_image_grey), \"no residual image\"\n",
        "\t\tpatches = []\n",
        "\t\tfor x in range(0, res_image_grey.shape[0], patch_size):\n",
        "\t\t\tfor y in range(0, res_image_grey.shape[1], patch_size):\n",
        "\t\t\t\tp = np.array(res_image_grey[x : x + patch_size, y : y + patch_size])\n",
        "\t\t\t\tpatches.append(p)\n",
        "\n",
        "\t\tdissim = []\n",
        "\t\tcorr = []\n",
        "\t\thomogen = []\n",
        "\t\tcontrast = []\n",
        "\t\tfor p in patches:\n",
        "\t\t\tglcm = greycomatrix(p[0], GLCM_STRIDE, GLCM_DIRECTIONS, symmetric=True, normed=True)\n",
        "\t\t\tdissim.append(greycoprops(glcm, 'dissimilarity'))\n",
        "\t\t\tcorr.append(greycoprops(glcm, 'correlation'))\n",
        "\t\t\thomogen.append(greycoprops(glcm, 'homogeneity'))\n",
        "\t\t\tcontrast.append(greycoprops(glcm, 'contrast'))\n",
        "\n",
        "\t\t# stats per patch\n",
        "\t\treturn {GLCM_METRIC_NAMES.dis: dissim, GLCM_METRIC_NAMES.cor: corr, \n",
        "\t\t        GLCM_METRIC_NAMES.hom: homogen, GLCM_METRIC_NAMES.con: contrast }"
      ],
      "execution_count": 0,
      "outputs": []
    },
    {
      "cell_type": "code",
      "metadata": {
        "id": "oKf9Ei4lKUfO",
        "colab_type": "code",
        "colab": {}
      },
      "source": [
        "TEST_SINGLE_PASS = False\n",
        "FRAME_FILE_EXT = \".png\"\n",
        "LOG_FILENAME = \"ImageProc.txt\"\n",
        "PATCH_SIZE = 64\n",
        "\n",
        "def LoadPreProcFrames(frames_path, filterName):\n",
        "    frame_files = [x for x in os.listdir(frames_path) if FRAME_FILE_EXT in x and filterName in x]\n",
        "    frame_files.sort()\n",
        "    if TEST_SINGLE_PASS and len(frame_files) > 5:\n",
        "        frame_files = frame_files[:5]\n",
        "\n",
        "    # Contains a dictionary whose len is the number of frames and\n",
        "    # keys are stat-types and values are stat for each patch in frame \n",
        "    features_dict = []\n",
        "    for frame_file in frame_files:\n",
        "        preproc_frame = LoadImage(os.path.join(frames_path, frame_file))\n",
        "        assert not IsMatNone(preproc_frame), \"no frame available for '{}'\".format(frame_file)\n",
        "        features_dict.append(ComputeCoOccurrance(preproc_frame, PATCH_SIZE))\n",
        "\n",
        "    return features_dict\n",
        "\n",
        "IMAGE_ROOT_PATH = \"\"\n",
        "OUTPUT_FIG_DIR = \"\"\n",
        "\n",
        "def Run(fakeDataDirName, originalDataDirName, filterName, shouldUseCachedFrames):\n",
        "    real_data_path = os.path.join(IMAGE_ROOT_PATH, originalDataDirName)\n",
        "    fake_data_path = os.path.join(IMAGE_ROOT_PATH, fakeDataDirName)\n",
        "\n",
        "    if (not os.path.exists(real_data_path) \n",
        "        and not os.path.exists(fake_data_path)):\n",
        "        print(\"Failed to find expected folders under '{}'\".format(IMAGE_ROOT_PATH))\n",
        "        return []\n",
        "\n",
        "    print(\"Processing frames for '{}' and '{}'\".format(originalDataDirName, fakeDataDirName))\n",
        "    r_feature_dicts = LoadPreProcFrames(real_data_path, filterName)\n",
        "    f_feature_dicts = LoadPreProcFrames(fake_data_path, filterName)\n",
        "\n",
        "    if (len(r_feature_dicts) == 0 or len(f_feature_dicts) == 0):\n",
        "        print(\"processed frames count: real={}, fake={}\".format(len(r_feature_dicts), len(f_feature_dicts)))\n",
        "        return []\n",
        "    else:\n",
        "        # ftr dict count = # patches * # images\n",
        "        print(\"real ftr count={}\\nfake ftr count={}\".format(len(r_feature_dicts), len(f_feature_dicts)))\n",
        "        print(\"Finished.\")\n",
        "\n",
        "    return [r_feature_dicts, f_feature_dicts]"
      ],
      "execution_count": 0,
      "outputs": []
    },
    {
      "cell_type": "code",
      "metadata": {
        "id": "j8M-vNfnVyfC",
        "colab_type": "code",
        "outputId": "a5f0830e-e203-4015-bb6f-a0390df4b985",
        "colab": {
          "base_uri": "https://localhost:8080/",
          "height": 380
        }
      },
      "source": [
        "import numpy as np\n",
        "from matplotlib import pyplot as plt\n",
        "FILTER_NAME = \"sobel-x\"\n",
        "METRIC_NAME = GLCM_METRIC_NAMES.con\n",
        "\n",
        "# Outputs list of patch glcm stats along m directions\n",
        "def SerializeAsArray(coo_features, dict_key):\n",
        "\tx = []\n",
        "\tfor frame_metrics in coo_features:\n",
        "\t\tfor p in frame_metrics[dict_key]:\n",
        "\t\t\tx.append(p)\n",
        "\treturn np.array(x)\n",
        "\n",
        "def PlotPatchStatsHist(coo_features, metric_name, name0, name1):\n",
        "\tdata_arr0 = SerializeAsArray(coo_features[0], metric_name)\n",
        "\tdata_arr1 = SerializeAsArray(coo_features[1], metric_name)\n",
        "\n",
        "\txmax = (int)(max(data_arr0.max(), data_arr1.max()))\n",
        "\tbins = np.linspace(-0.1, xmax, 50)\n",
        "\t# Why does this line generate indentation error??\n",
        "\t# f, ax = plt.subplots(1, 4, sharey=True)\n",
        "\tf, (ax0, ax1, ax2, ax3) = plt.subplots(1, 4, sharey=True)\n",
        "\tf.suptitle(\"{} (cyan) | {} (red) {}\".format(name0, name1, metric_name))\n",
        "\t# TODO: plot shared xy labels\n",
        "\txlabel = \"glcm: \" + metric_name\n",
        "\tylabel = \"normalized patch cnt ({}|{})\".format(len(coo_features[0]),len(coo_features[1]))\n",
        "\tplt.xlim(-0.1, xmax)\n",
        "\tplt.ylim(0, 1)\n",
        " \n",
        "\tax0.hist(data_arr0[:,:,0], bins=bins, alpha=0.5, color='c', density=True, histtype=\"stepfilled\", stacked=True)\n",
        "\tax0.set_xlabel(\"0 (rad)\")\n",
        "\tax1.hist(data_arr0[:,:,1], bins=bins, alpha=0.5, color='c', density=True, histtype=\"stepfilled\", stacked=True)\n",
        "\tax1.set_xlabel(\"pi / 2\")\n",
        "\tax2.hist(data_arr0[:,:,2], bins=bins, alpha=0.5, color='c', density=True, histtype=\"stepfilled\", stacked=True)\n",
        "\tax2.set_xlabel(\"2 * pi / 3\")\n",
        "\tax3.hist(data_arr0[:,:,3], bins=bins, alpha=0.5, color='c', density=True, histtype=\"stepfilled\", stacked=True)\n",
        "\tax3.set_xlabel(\"4 * pi / 3\")\n",
        " \n",
        "\tax0.hist(data_arr1[:,:,0], bins=bins, alpha=0.5, color='r', density=True, histtype=\"stepfilled\", stacked=True)\n",
        "\tax1.hist(data_arr1[:,:,1], bins=bins, alpha=0.5, color='r', density=True, histtype=\"stepfilled\", stacked=True)\n",
        "\tax2.hist(data_arr1[:,:,2], bins=bins, alpha=0.5, color='r', density=True, histtype=\"stepfilled\", stacked=True)\n",
        "\tax3.hist(data_arr1[:,:,3], bins=bins, alpha=0.5, color='r', density=True, histtype=\"stepfilled\", stacked=True)\n",
        "\t\n",
        "\tplt.show()\n",
        "\tf.savefig(\"{}_vs_{}_{}\".format(name0, name1, metric_name))\n",
        "\treturn\n",
        "\n",
        "coo_features = Run(\"DeepFakes\", \"OriginalDeepFakes\", FILTER_NAME, True)\n",
        "\n",
        "# Histogram of metrics\n",
        "PlotPatchStatsHist(\n",
        "\t\tcoo_features,\n",
        "\t\tMETRIC_NAME,\n",
        "\t\t\"Original\",\n",
        "\t\t\"DeepFakes\"\n",
        ")"
      ],
      "execution_count": 83,
      "outputs": [
        {
          "output_type": "stream",
          "text": [
            "Processing frames for 'OriginalDeepFakes' and 'DeepFakes'\n",
            "real ftr count=390\n",
            "fake ftr count=390\n",
            "Finished.\n"
          ],
          "name": "stdout"
        },
        {
          "output_type": "display_data",
          "data": {
            "image/png": "[encoded data removed]",
            "text/plain": [
              "<Figure size 432x288 with 4 Axes>"
            ]
          },
          "metadata": {
            "tags": []
          }
        }
      ]
    },
    {
      "cell_type": "code",
      "metadata": {
        "id": "aYjFHC6_FS2R",
        "colab_type": "code",
        "colab": {}
      },
      "source": [
        "from libsvm.svmutil import * \n",
        "from timeit import default_timer as timer\n",
        "from numpy import random\n",
        "\n",
        "TRAIN_PCT_SAMP_SIZE = 0.7\n",
        "ShouldTestFullDataset = False\n",
        "LABEL_IDX = 0\n",
        "DATA_IDX = 1\n",
        "\n",
        "class SvmOutputs:\n",
        "    def __init__(self, model, metric, labels, accuracy, label_confidence):\n",
        "      self.model = model\n",
        "      self.metric = metric\n",
        "      self.accuracy = accuracy\n",
        "      self.labels = labels\n",
        "      self.label_confidence = np.array(label_confidence)\n",
        "\n",
        "\"\"\"\n",
        "Outputs dictionary of id to patch glcm stats along m directions.\n",
        "The input format expected by svm_read_problem is as follows\n",
        "<label_0> <index_0>:<value> ... <index_M>:<value>\n",
        "    ...\n",
        "<label_N> <index_0>:<value> ... <index_M>:<value>\n",
        "\n",
        "For N training data points with M-dimensional features. This \n",
        "file format is parsed into a list of labels and corresponding \n",
        "input data. Each input data is represented as a dictionary, where\n",
        "each dimension index and value are used as the key and value, resp.\n",
        "Kind of a strange representation to use for numerical data...\n",
        "\"\"\"\n",
        "def SerializeAsDict(frame_metrics, dict_key=\"\"):\n",
        "    x = {}\n",
        "    i = 0\n",
        "    if (dict_key == \"\"):\n",
        "            for k in frame_metrics:\n",
        "                for patch in frame_metrics[k]:\n",
        "                    for d in patch[0]:\n",
        "                        x[i] = d\n",
        "                        i += 1\n",
        "    else:\n",
        "            for patch in frame_metrics[dict_key]:\n",
        "                for d in patch[0]:\n",
        "                    x[i] = d\n",
        "                    i += 1\n",
        "    return x\n",
        "\n",
        "def TrainAndTestSvm(coo_features, glcm_metric, dataset_name):\n",
        "    print(\"Train and test using '{}' and '{}'\".format(dataset_name, glcm_metric))\n",
        "    real_feature_vec = [SerializeAsDict(f, glcm_metric) for f in coo_features[0]]\n",
        "    fake_feature_vec = [SerializeAsDict(f, glcm_metric) for f in coo_features[1]]\n",
        "\n",
        "    data_set = np.array([[1,f] for f in real_feature_vec] + [[-1,f] for f in fake_feature_vec])\n",
        "    random.shuffle(data_set)\n",
        "\n",
        "    # TODO: tune svm params (https://www.csie.ntu.edu.tw/~cjlin/libsvm/)\n",
        "    # use xval to find good C\n",
        "    # consider kernels and xval to find good params\n",
        "\n",
        "    print(\"--- Train ---\")\n",
        "    train_samp_size = int(TRAIN_PCT_SAMP_SIZE * len(data_set))\n",
        "    train_data = data_set[:,DATA_IDX][:train_samp_size]\n",
        "    train_labels = data_set[:,LABEL_IDX][:train_samp_size]\n",
        "    print(\"train data size: {}\".format(len(train_data)))\n",
        "\n",
        "    start = timer()\n",
        "    model = svm_train(train_labels, train_data, '-c 4 -b 0')\n",
        "    print(\"elapsed time (s): {} \".format(timer() - start))\n",
        "\n",
        "    print(\"--- Eval ---\")\n",
        "    test_samp_size = len(data_set) - train_samp_size\n",
        "    if (ShouldTestFullDataset):\n",
        "        test_data = data_set[:,DATA_IDX][:]\n",
        "        test_labels = data_set[:,LABEL_IDX][:]\n",
        "    else:\n",
        "        test_data = data_set[:,DATA_IDX][train_samp_size:]\n",
        "        test_labels = data_set[:,LABEL_IDX][train_samp_size:]\n",
        "    print(\"test data size: {}\".format(len(test_data)))\n",
        "    # label:    predicted class\n",
        "    # acc:      100 * (1 - misclassifications/N)\n",
        "    # val:      prob of choosing predicted class\n",
        "    start = timer()\n",
        "    p_label, p_acc, p_val = svm_predict(test_labels, test_data, model)\n",
        "    print(\"elapsed time (s): {} \".format(timer() - start))\n",
        "    return SvmOutputs(model, glcm_metric, p_label, p_acc, p_val)\n",
        "\n",
        "def TestSvm(coo_features_dict, glcm_metric, excluded_dataset_name):\n",
        "    print(\"Train and test using all except'{}' with metric '{}'\".format(excluded_dataset_name, glcm_metric))\n",
        "    real_feature_vec = []\n",
        "    fake_feature_vec = []\n",
        "    for dataset in coo_features_dict:\n",
        "      if (dataset != excluded_dataset_name):\n",
        "        real_feature_vec += [SerializeAsDict(f, glcm_metric) for f in coo_features[0]]\n",
        "        fake_feature_vec += [SerializeAsDict(f, glcm_metric) for f in coo_features[1]]\n",
        "\n",
        "    data_set = np.array([[1,f] for f in real_feature_vec] + [[-1,f] for f in fake_feature_vec])\n",
        "    random.shuffle(data_set)"
      ],
      "execution_count": 0,
      "outputs": []
    },
    {
      "cell_type": "markdown",
      "metadata": {
        "id": "Ntcj1ieMCWgJ",
        "colab_type": "text"
      },
      "source": [
        "Process **individual** datasets with various glcm metrics."
      ]
    },
    {
      "cell_type": "code",
      "metadata": {
        "id": "KkJ-gl9udTPp",
        "colab_type": "code",
        "colab": {}
      },
      "source": [
        "FILTER_NAME = \"sobel-x\"\n",
        "dataset_feature_dict = {}\n",
        "dataset_feature_dict[\"DeepFakes\"] = Run(\"DeepFakes\", \"OriginalDeepFakes\", FILTER_NAME, True)\n",
        "dataset_feature_dict[\"FaceSwap\"] = Run(\"FaceSwap\", \"OriginalFaceSwap\", FILTER_NAME, True)\n",
        "dataset_feature_dict[\"Face2Face\"] = Run(\"Face2Face\", \"OriginalFace2Face\", FILTER_NAME, True)\n",
        "dataset_feature_dict[\"NeuralTextures\"] = Run(\"NeuralTextures\", \"OriginalNeuralTextures\", FILTER_NAME, True)\n",
        "\n",
        "# Contains svm outputs indexed by dataset name\n",
        "dataset_model_dict = {}\n",
        "for dn in [\"DeepFakes\", \"FaceSwap\", \"Face2Face\", \"NeuralTextures\"]:\n",
        "  dataset_model_dict[dn] = []\n",
        "  dataset_model_dict[dn].append(TrainAndTestSvm(dataset_feature_dict[dn], GLCM_METRIC_NAMES.con, dn))\n",
        "  dataset_model_dict[dn].append(TrainAndTestSvm(dataset_feature_dict[dn], GLCM_METRIC_NAMES.cor, dn))\n",
        "  dataset_model_dict[dn].append(TrainAndTestSvm(dataset_feature_dict[dn], GLCM_METRIC_NAMES.dis, dn))\n",
        "  dataset_model_dict[dn].append(TrainAndTestSvm(dataset_feature_dict[dn], GLCM_METRIC_NAMES.hom, dn))\n"
      ],
      "execution_count": 0,
      "outputs": []
    },
    {
      "cell_type": "markdown",
      "metadata": {
        "id": "MJFpexU2IMyI",
        "colab_type": "text"
      },
      "source": [
        "Train on collection of datasets with various glcm metrics."
      ]
    },
    {
      "cell_type": "code",
      "metadata": {
        "id": "2Zgj0d9OIZIy",
        "colab_type": "code",
        "colab": {}
      },
      "source": [
        ""
      ],
      "execution_count": 0,
      "outputs": []
    },
    {
      "cell_type": "markdown",
      "metadata": {
        "id": "AvrOh016IZYl",
        "colab_type": "text"
      },
      "source": [
        "Train on single dataset and test on others."
      ]
    },
    {
      "cell_type": "code",
      "metadata": {
        "id": "MtXoKweFIZth",
        "colab_type": "code",
        "colab": {}
      },
      "source": [
        ""
      ],
      "execution_count": 0,
      "outputs": []
    },
    {
      "cell_type": "markdown",
      "metadata": {
        "id": "__jgODSusP_T",
        "colab_type": "text"
      },
      "source": [
        "Save results to file."
      ]
    },
    {
      "cell_type": "code",
      "metadata": {
        "id": "Jr9Yq4qF2s0h",
        "colab_type": "code",
        "colab": {
          "base_uri": "https://localhost:8080/",
          "height": 53
        },
        "outputId": "26800cfd-a890-49db-f4c8-63fa902ba5cd"
      },
      "source": [
        "logtxt = \"dataset,metric,accuracy,mse,sq_corr_coeff\\n\"\n",
        "print(len(dataset_model_dict))\n",
        "for k in dataset_model_dict:\n",
        "  for result in dataset_model_dict[k]:\n",
        "    logtxt += \"{},{},{},{},{}\".format(k, result.metric, result.accuracy[0],result.accuracy[1], result.accuracy[2])\n",
        "    logtxt += \"\\n\"\n",
        "\n",
        "logfile = open(\"data.txt\",\"w\")\n",
        "logfile.write(logtxt)\n",
        "\n",
        "# read results\n",
        "#data_file = \"data.txt\"\n",
        "#results = np.genfromtxt(data_file, delimiter=',', dtype=None, names=('dataset','metric','accuracy','mse','sq_corr_coeff'))\n"
      ],
      "execution_count": 91,
      "outputs": [
        {
          "output_type": "stream",
          "text": [
            "4\n"
          ],
          "name": "stdout"
        },
        {
          "output_type": "execute_result",
          "data": {
            "text/plain": [
              "1307"
            ]
          },
          "metadata": {
            "tags": []
          },
          "execution_count": 91
        }
      ]
    },
    {
      "cell_type": "markdown",
      "metadata": {
        "id": "0CM0q1cIsTPC",
        "colab_type": "text"
      },
      "source": [
        "Show and save plots."
      ]
    },
    {
      "cell_type": "code",
      "metadata": {
        "id": "c0BvEJOdsW5D",
        "colab_type": "code",
        "colab": {
          "base_uri": "https://localhost:8080/",
          "height": 680
        },
        "outputId": "d2d1b9d7-9308-478d-a71d-da2a5e481cf3"
      },
      "source": [
        "import matplotlib.pyplot as plt\n",
        "import numpy as np\n",
        "\n",
        "DATA_COLORS = [\"darkturquoise\", \"darkolivegreen\", \"darkolivegreen\", \"darkolivegreen\"]\n",
        "metrics = [GLCM_METRIC_NAMES.dis, GLCM_METRIC_NAMES.con, GLCM_METRIC_NAMES.cor, GLCM_METRIC_NAMES.hom]\n",
        "plt.figure(num=1, figsize=(16, 16), dpi=100)\n",
        "i = 1\n",
        "N = len(dataset_model_dict)\n",
        "for k in dataset_model_dict:\n",
        "  acc_per_metric = [0] * len(metrics)\n",
        "  for j in range(len(metrics)):\n",
        "    acc_per_metric[j] = [result.accuracy[0] for result in dataset_model_dict[k] if result.metric == metrics[j]][0]\n",
        "  sp = plt.subplot(N,2,i)\n",
        "  y_pos = np.arange(len(metrics))\n",
        "  plt.bar(y_pos, acc_per_metric, align='center', alpha=0.3, color=DATA_COLORS[:len(metrics)])\n",
        "  plt.xticks(y_pos, metrics)\n",
        "  plt.title(\"Model Accuracy for '{}'\".format(k))\n",
        "  # Counter\n",
        "  i += 1\n",
        "plt.savefig(\"all_metric_acc.png\",bbox_inches='tight')\n",
        "plt.show()"
      ],
      "execution_count": 133,
      "outputs": [
        {
          "output_type": "display_data",
          "data": {
            "image/png": "[encoded data removed]",
            "text/plain": [
              "<Figure size 1600x1600 with 4 Axes>"
            ]
          },
          "metadata": {
            "tags": []
          }
        }
      ]
    },
    {
      "cell_type": "code",
      "metadata": {
        "id": "G6pyrj7mFTUv",
        "colab_type": "code",
        "colab": {
          "base_uri": "https://localhost:8080/",
          "height": 680
        },
        "outputId": "3a3386fa-0cbf-4817-ae75-fb046e5f2882"
      },
      "source": [
        "import matplotlib.pyplot as plt\n",
        "import numpy as np\n",
        "\n",
        "DATA_COLORS = [\"darkturquoise\", \"darkolivegreen\", \"darkolivegreen\", \"darkolivegreen\"]\n",
        "metrics = [GLCM_METRIC_NAMES.dis, GLCM_METRIC_NAMES.con, GLCM_METRIC_NAMES.cor, GLCM_METRIC_NAMES.hom]\n",
        "plt.figure(num=1, figsize=(16, 16), dpi=100)\n",
        "i = 1\n",
        "for k in dataset_model_dict:\n",
        "  mse_per_metric = [0] * len(metrics)\n",
        "  for j in range(len(metrics)):\n",
        "    mse_per_metric[j] = [result.accuracy[1] for result in dataset_model_dict[k] if result.metric == metrics[j]][0]\n",
        "\n",
        "  sp = plt.subplot(N,2,i)\n",
        "  y_pos = np.arange(len(metrics))\n",
        "  plt.bar(y_pos, mse_per_metric, align='center', alpha=0.3, color=DATA_COLORS[:len(metrics)])\n",
        "  plt.xticks(y_pos, metrics)\n",
        "  plt.title(\"Model MSE for '{}'\".format(k))\n",
        "  # Counter\n",
        "  i += 1\n",
        "plt.savefig(\"all_metric_mse.png\",bbox_inches='tight')\n",
        "plt.show()"
      ],
      "execution_count": 135,
      "outputs": [
        {
          "output_type": "display_data",
          "data": {
            "image/png": "[encoded data removed]",
            "text/plain": [
              "<Figure size 1600x1600 with 4 Axes>"
            ]
          },
          "metadata": {
            "tags": []
          }
        }
      ]
    }
  ]
}