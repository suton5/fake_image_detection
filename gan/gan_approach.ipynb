{
  "nbformat": 4,
  "nbformat_minor": 0,
  "metadata": {
    "accelerator": "GPU",
    "colab": {
      "name": "gan_approach.ipynb",
      "provenance": [],
      "private_outputs": true,
      "collapsed_sections": [],
      "machine_shape": "hm"
    },
    "kernelspec": {
      "name": "python3",
      "display_name": "Python 3"
    },
    "language_info": {
      "codemirror_mode": {
        "name": "ipython",
        "version": 3
      },
      "file_extension": ".py",
      "mimetype": "text/x-python",
      "name": "python",
      "nbconvert_exporter": "python",
      "pygments_lexer": "ipython3",
      "version": "3.5.2"
    }
  },
  "cells": [
    {
      "cell_type": "code",
      "metadata": {
        "colab_type": "code",
        "id": "J5oue0oqCkZZ",
        "colab": {}
      },
      "source": [
        "from __future__ import absolute_import, division, print_function, unicode_literals"
      ],
      "execution_count": 0,
      "outputs": []
    },
    {
      "cell_type": "code",
      "metadata": {
        "colab_type": "code",
        "id": "g5RstiiB8V-z",
        "colab": {}
      },
      "source": [
        "try:\n",
        "  # %tensorflow_version only exists in Colab.\n",
        "  %tensorflow_version 2.x\n",
        "except Exception:\n",
        "  pass\n"
      ],
      "execution_count": 0,
      "outputs": []
    },
    {
      "cell_type": "code",
      "metadata": {
        "colab_type": "code",
        "id": "WZKbyU2-AiY-",
        "colab": {}
      },
      "source": [
        "import tensorflow as tf"
      ],
      "execution_count": 0,
      "outputs": []
    },
    {
      "cell_type": "code",
      "metadata": {
        "colab_type": "code",
        "id": "wx-zNbLqB4K8",
        "colab": {}
      },
      "source": [
        "tf.__version__"
      ],
      "execution_count": 0,
      "outputs": []
    },
    {
      "cell_type": "code",
      "metadata": {
        "colab_type": "code",
        "id": "YzTlj4YdCip_",
        "colab": {}
      },
      "source": [
        "# To generate GIFs\n",
        "!pip install -q imageio"
      ],
      "execution_count": 0,
      "outputs": []
    },
    {
      "cell_type": "code",
      "metadata": {
        "colab_type": "code",
        "id": "YfIk2es3hJEd",
        "colab": {}
      },
      "source": [
        "import glob\n",
        "import imageio\n",
        "import matplotlib.pyplot as plt\n",
        "import numpy as np\n",
        "import os\n",
        "import PIL\n",
        "from tensorflow.keras import layers\n",
        "import datetime\n",
        "import time\n",
        "from skimage import io\n",
        "from sklearn.metrics import accuracy_score\n",
        "\n",
        "from IPython import display"
      ],
      "execution_count": 0,
      "outputs": []
    },
    {
      "cell_type": "code",
      "metadata": {
        "id": "dqIcRl7TOACh",
        "colab_type": "code",
        "colab": {}
      },
      "source": [
        "# Load the TensorBoard notebook extension\n",
        "%load_ext tensorboard"
      ],
      "execution_count": 0,
      "outputs": []
    },
    {
      "cell_type": "code",
      "metadata": {
        "id": "n38GmDIyNJZS",
        "colab_type": "code",
        "colab": {}
      },
      "source": [
        "!rm -rf ./logs/ "
      ],
      "execution_count": 0,
      "outputs": []
    },
    {
      "cell_type": "markdown",
      "metadata": {
        "id": "rvKIRQ91gWCu",
        "colab_type": "text"
      },
      "source": [
        "## Import Data"
      ]
    },
    {
      "cell_type": "code",
      "metadata": {
        "id": "JAIXuRQbezDG",
        "colab_type": "code",
        "colab": {}
      },
      "source": [
        "!unzip real.zip"
      ],
      "execution_count": 0,
      "outputs": []
    },
    {
      "cell_type": "code",
      "metadata": {
        "id": "4aHABBM7u8NI",
        "colab_type": "code",
        "colab": {}
      },
      "source": [
        "!unzip deepfakes.zip"
      ],
      "execution_count": 0,
      "outputs": []
    },
    {
      "cell_type": "code",
      "metadata": {
        "id": "n_Yhor26sKqs",
        "colab_type": "code",
        "colab": {}
      },
      "source": [
        "!unzip neuraltextures.zip"
      ],
      "execution_count": 0,
      "outputs": []
    },
    {
      "cell_type": "code",
      "metadata": {
        "id": "i1yX5MncsOJC",
        "colab_type": "code",
        "colab": {}
      },
      "source": [
        "!unzip face2face.zip"
      ],
      "execution_count": 0,
      "outputs": []
    },
    {
      "cell_type": "code",
      "metadata": {
        "id": "NU4WdTiKsQOU",
        "colab_type": "code",
        "colab": {}
      },
      "source": [
        "!unzip faceswap.zip"
      ],
      "execution_count": 0,
      "outputs": []
    },
    {
      "cell_type": "code",
      "metadata": {
        "id": "EWX-E-tHu-XE",
        "colab_type": "code",
        "colab": {}
      },
      "source": [
        "!unzip training_checkpoints.zip"
      ],
      "execution_count": 0,
      "outputs": []
    },
    {
      "cell_type": "code",
      "metadata": {
        "id": "mx23k1IfvOes",
        "colab_type": "code",
        "colab": {}
      },
      "source": [
        "def process_images(path, num_images):\n",
        "  images = []\n",
        "  for i in range(num_images):\n",
        "    # Load in the images\n",
        "    image=io.imread(path+'/%04d' % i+'.png')\n",
        "    images.append(np.array(image))\n",
        "\n",
        "  images=np.array(images)\n",
        "  images_cropped = images[:, 30:480, 495:945, :]\n",
        "\n",
        "  assert images_cropped.shape == (num_images, 450, 450, 3)\n",
        "\n",
        "  images = images_cropped.reshape(images_cropped.shape[0], 450, 450, 3).astype('float32')\n",
        "  images = (images - 127.5) / 127.5 # Normalize the images to [-1, 1]\n",
        "\n",
        "  assert images.min() >= -1.0\n",
        "  assert images.max() <= 1.0\n",
        "\n",
        "  return images"
      ],
      "execution_count": 0,
      "outputs": []
    },
    {
      "cell_type": "code",
      "metadata": {
        "id": "aKIfMlW5wWtG",
        "colab_type": "code",
        "colab": {}
      },
      "source": [
        "real = process_images('real', 390)"
      ],
      "execution_count": 0,
      "outputs": []
    },
    {
      "cell_type": "code",
      "metadata": {
        "colab_type": "code",
        "id": "S4PIDhoDLbsZ",
        "colab": {}
      },
      "source": [
        "BUFFER_SIZE = 390\n",
        "BATCH_SIZE = 8"
      ],
      "execution_count": 0,
      "outputs": []
    },
    {
      "cell_type": "code",
      "metadata": {
        "colab_type": "code",
        "id": "-yKCCQOoJ7cn",
        "colab": {}
      },
      "source": [
        "# Batch and shuffle the data\n",
        "train_dataset = tf.data.Dataset.from_tensor_slices(real).shuffle(BUFFER_SIZE).batch(BATCH_SIZE)"
      ],
      "execution_count": 0,
      "outputs": []
    },
    {
      "cell_type": "markdown",
      "metadata": {
        "id": "SQ-H7VHogbrO",
        "colab_type": "text"
      },
      "source": [
        "## Build Generator"
      ]
    },
    {
      "cell_type": "code",
      "metadata": {
        "colab_type": "code",
        "id": "6bpTcDqoLWjY",
        "colab": {}
      },
      "source": [
        "#The generator uses tf.keras.layers.Conv2DTranspose (upsampling) layers to produce an image from a seed \n",
        "#(random noise). Start with a Dense layer that takes this seed as input, then upsample several times \n",
        "#until you reach the desired image size of 720, 1280, 3. Notice the tf.keras.layers.LeakyReLU activation for \n",
        "#each layer, except the output layer which uses tanh.\n",
        "\n",
        "def make_generator_model():\n",
        "    model = tf.keras.Sequential()\n",
        "    model.add(layers.Dense(25*25*256, use_bias=False, input_shape=(100,)))\n",
        "    model.add(layers.BatchNormalization())\n",
        "    model.add(layers.LeakyReLU())\n",
        "\n",
        "    model.add(layers.Reshape((25, 25, 256)))\n",
        "    assert model.output_shape == (None, 25, 25, 256) # Note: None is the batch size\n",
        "\n",
        "    model.add(layers.Conv2DTranspose(128, (5, 5), strides=(1, 1), padding='same', use_bias=False))\n",
        "    assert model.output_shape == (None, 25, 25, 128)\n",
        "    model.add(layers.BatchNormalization())\n",
        "    model.add(layers.LeakyReLU())\n",
        "\n",
        "    model.add(layers.Conv2DTranspose(64, (5, 5), strides=(3, 3), padding='same', use_bias=False))\n",
        "    assert model.output_shape == (None, 75, 75, 64)\n",
        "    model.add(layers.BatchNormalization())\n",
        "    model.add(layers.LeakyReLU())\n",
        "\n",
        "    model.add(layers.Conv2DTranspose(32, (5, 5), strides=(3, 3), padding='same', use_bias=False))\n",
        "    assert model.output_shape == (None, 225, 225, 32)\n",
        "    model.add(layers.BatchNormalization())\n",
        "    model.add(layers.LeakyReLU())\n",
        "\n",
        "    model.add(layers.Conv2DTranspose(3, (5, 5), strides=(2, 2), padding='same', use_bias=False, activation='tanh'))\n",
        "    assert model.output_shape == (None, 450, 450, 3)\n",
        "\n",
        "    return model"
      ],
      "execution_count": 0,
      "outputs": []
    },
    {
      "cell_type": "code",
      "metadata": {
        "colab_type": "code",
        "id": "gl7jcC7TdPTG",
        "colab": {}
      },
      "source": [
        "#Use the (as yet untrained) generator to create an image.\n",
        "generator = make_generator_model()\n",
        "\n",
        "noise = tf.random.normal([1, 100])\n",
        "generated_image = generator(noise, training=False)"
      ],
      "execution_count": 0,
      "outputs": []
    },
    {
      "cell_type": "code",
      "metadata": {
        "id": "pB-SAWdxUK4n",
        "colab_type": "code",
        "colab": {}
      },
      "source": [
        "plt.imshow(((np.array(generated_image[0, :, :, :]))*127.5 + 127.5).astype(int))\n",
        "plt.show()"
      ],
      "execution_count": 0,
      "outputs": []
    },
    {
      "cell_type": "code",
      "metadata": {
        "id": "RixxZmMcVnn8",
        "colab_type": "code",
        "colab": {}
      },
      "source": [
        "plt.imshow((real[0]*127.5 + 127.5).astype(int))\n",
        "plt.show()"
      ],
      "execution_count": 0,
      "outputs": []
    },
    {
      "cell_type": "markdown",
      "metadata": {
        "id": "lbZO5nZ9gfpB",
        "colab_type": "text"
      },
      "source": [
        "## Build Discriminator"
      ]
    },
    {
      "cell_type": "code",
      "metadata": {
        "colab_type": "code",
        "id": "dw2tPLmk2pEP",
        "colab": {}
      },
      "source": [
        "#The discriminator is a CNN-based image classifier.\n",
        "def make_discriminator_model():\n",
        "    model = tf.keras.Sequential()\n",
        "    model.add(layers.Conv2D(64, (5, 5), strides=(2, 2), padding='same',\n",
        "                                     input_shape=[450, 450, 3]))\n",
        "    model.add(layers.LeakyReLU())\n",
        "    model.add(layers.Dropout(0.3))\n",
        "\n",
        "    model.add(layers.Conv2D(128, (5, 5), strides=(2, 2), padding='same'))\n",
        "    model.add(layers.LeakyReLU())\n",
        "    model.add(layers.Dropout(0.3))\n",
        "\n",
        "    model.add(layers.Conv2D(256, (5, 5), strides=(2, 2), padding='same'))\n",
        "    model.add(layers.LeakyReLU())\n",
        "    model.add(layers.Dropout(0.3))\n",
        "\n",
        "    model.add(layers.Conv2D(512, (5, 5), strides=(2, 2), padding='same'))\n",
        "    model.add(layers.LeakyReLU())\n",
        "    model.add(layers.Dropout(0.3))\n",
        "\n",
        "    model.add(layers.Flatten())\n",
        "    model.add(layers.Dense(1))#, activation='sigmoid'))\n",
        "\n",
        "    return model"
      ],
      "execution_count": 0,
      "outputs": []
    },
    {
      "cell_type": "code",
      "metadata": {
        "colab_type": "code",
        "id": "gDkA05NE6QMs",
        "colab": {}
      },
      "source": [
        "#Use the (as yet untrained) discriminator to classify the generated images as real or fake. \n",
        "#The model will be trained to output positive values for real images, and negative values for fake images.\n",
        "discriminator = make_discriminator_model()\n",
        "decision = discriminator(generated_image)\n",
        "print (decision)"
      ],
      "execution_count": 0,
      "outputs": []
    },
    {
      "cell_type": "code",
      "metadata": {
        "id": "0H4pC5dQQYxM",
        "colab_type": "code",
        "colab": {}
      },
      "source": [
        "discriminator.summary()"
      ],
      "execution_count": 0,
      "outputs": []
    },
    {
      "cell_type": "markdown",
      "metadata": {
        "colab_type": "text",
        "id": "0FMYgY_mPfTi"
      },
      "source": [
        "## Define the loss and optimizers"
      ]
    },
    {
      "cell_type": "code",
      "metadata": {
        "colab_type": "code",
        "id": "psQfmXxYKU3X",
        "colab": {}
      },
      "source": [
        "# This method returns a helper function to compute cross entropy loss\n",
        "cross_entropy = tf.keras.losses.BinaryCrossentropy(from_logits=True)"
      ],
      "execution_count": 0,
      "outputs": []
    },
    {
      "cell_type": "markdown",
      "metadata": {
        "colab_type": "text",
        "id": "PKY_iPSPNWoj"
      },
      "source": [
        "### Discriminator loss"
      ]
    },
    {
      "cell_type": "code",
      "metadata": {
        "colab_type": "code",
        "id": "wkMNfBWlT-PV",
        "colab": {}
      },
      "source": [
        "#This method quantifies how well the discriminator is able to distinguish real images from fakes. \n",
        "#It compares the discriminator's predictions on real images to an array of 1s, and the \n",
        "#discriminator's predictions on fake (generated) images to an array of 0s.\n",
        "\n",
        "def discriminator_loss(real_output, fake_output):\n",
        "    real_loss = cross_entropy(tf.ones_like(real_output), real_output)\n",
        "    fake_loss = cross_entropy(tf.zeros_like(fake_output), fake_output)\n",
        "    total_loss = real_loss + fake_loss\n",
        "    return total_loss"
      ],
      "execution_count": 0,
      "outputs": []
    },
    {
      "cell_type": "markdown",
      "metadata": {
        "colab_type": "text",
        "id": "Jd-3GCUEiKtv"
      },
      "source": [
        "### Generator loss"
      ]
    },
    {
      "cell_type": "code",
      "metadata": {
        "colab_type": "code",
        "id": "90BIcCKcDMxz",
        "colab": {}
      },
      "source": [
        "#The generator's loss quantifies how well it was able to trick the discriminator. Intuitively, \n",
        "#if the generator is performing well, the discriminator will classify the fake images as real (or 1). \n",
        "#Here, we will compare the discriminators decisions on the generated images to an array of 1s.\n",
        "\n",
        "def generator_loss(fake_output):\n",
        "    return cross_entropy(tf.ones_like(fake_output), fake_output)"
      ],
      "execution_count": 0,
      "outputs": []
    },
    {
      "cell_type": "code",
      "metadata": {
        "id": "RdJ2nzbWS6TO",
        "colab_type": "code",
        "colab": {}
      },
      "source": [
        "# Define our metrics\n",
        "G_loss = tf.keras.metrics.Mean('gen_loss', dtype=tf.float32)\n",
        "D_loss = tf.keras.metrics.Mean('disc_loss', dtype=tf.float32)"
      ],
      "execution_count": 0,
      "outputs": []
    },
    {
      "cell_type": "markdown",
      "metadata": {
        "colab_type": "text",
        "id": "MgIc7i0th_Iu"
      },
      "source": [
        "The discriminator and the generator optimizers are different since we will train two networks separately."
      ]
    },
    {
      "cell_type": "code",
      "metadata": {
        "colab_type": "code",
        "id": "iWCn_PVdEJZ7",
        "colab": {}
      },
      "source": [
        "generator_optimizer = tf.keras.optimizers.Adam(1e-4)\n",
        "discriminator_optimizer = tf.keras.optimizers.Adam(1e-4)"
      ],
      "execution_count": 0,
      "outputs": []
    },
    {
      "cell_type": "markdown",
      "metadata": {
        "colab_type": "text",
        "id": "mWtinsGDPJlV"
      },
      "source": [
        "### Save checkpoints\n",
        "This notebook also demonstrates how to save and restore models, which can be helpful in case a long running training task is interrupted."
      ]
    },
    {
      "cell_type": "code",
      "metadata": {
        "colab_type": "code",
        "id": "CA1w-7s2POEy",
        "colab": {}
      },
      "source": [
        "checkpoint_dir = './training_checkpoints2'\n",
        "checkpoint_prefix = os.path.join(checkpoint_dir, \"ckpt\")\n",
        "checkpoint = tf.train.Checkpoint(generator_optimizer=generator_optimizer,\n",
        "                                 discriminator_optimizer=discriminator_optimizer,\n",
        "                                 generator=generator,\n",
        "                                 discriminator=discriminator)"
      ],
      "execution_count": 0,
      "outputs": []
    },
    {
      "cell_type": "markdown",
      "metadata": {
        "colab_type": "text",
        "id": "Rw1fkAczTQYh"
      },
      "source": [
        "## Define the training loop\n",
        "\n"
      ]
    },
    {
      "cell_type": "code",
      "metadata": {
        "colab_type": "code",
        "id": "NS2GWywBbAWo",
        "colab": {}
      },
      "source": [
        "EPOCHS = 500\n",
        "noise_dim = 100\n",
        "num_examples_to_generate = 1\n",
        "\n",
        "# We will reuse this seed overtime (so it's easier)\n",
        "# to visualize progress in the animated GIF)\n",
        "seed = tf.random.normal([num_examples_to_generate, noise_dim])"
      ],
      "execution_count": 0,
      "outputs": []
    },
    {
      "cell_type": "markdown",
      "metadata": {
        "colab_type": "text",
        "id": "jylSonrqSWfi"
      },
      "source": [
        "The training loop begins with generator receiving a random seed as input. That seed is used to produce an image. The discriminator is then used to classify real images (drawn from the training set) and fakes images (produced by the generator). The loss is calculated for each of these models, and the gradients are used to update the generator and discriminator."
      ]
    },
    {
      "cell_type": "code",
      "metadata": {
        "id": "s7XcXBrVPeUQ",
        "colab_type": "code",
        "colab": {}
      },
      "source": [
        "current_time = datetime.datetime.now().strftime(\"%Y%m%d-%H%M%S\")\n",
        "train_log_dir = 'logs/gradient_tape/' + current_time + '/train'\n",
        "train_summary_writer = tf.summary.create_file_writer(train_log_dir)"
      ],
      "execution_count": 0,
      "outputs": []
    },
    {
      "cell_type": "code",
      "metadata": {
        "colab_type": "code",
        "id": "3t5ibNo05jCB",
        "colab": {}
      },
      "source": [
        "# Notice the use of `tf.function`\n",
        "# This annotation causes the function to be \"compiled\".\n",
        "@tf.function\n",
        "def train_step(images):\n",
        "    noise = tf.random.normal([BATCH_SIZE, noise_dim])\n",
        "\n",
        "    with tf.GradientTape() as gen_tape, tf.GradientTape() as disc_tape:\n",
        "      generated_images = generator(noise, training=True)\n",
        "\n",
        "      real_output = discriminator(images, training=True)\n",
        "      fake_output = discriminator(generated_images, training=True)\n",
        "\n",
        "      gen_loss = generator_loss(fake_output)\n",
        "      disc_loss = discriminator_loss(real_output, fake_output)\n",
        "    \n",
        "    G_loss(gen_loss)\n",
        "    D_loss(disc_loss)\n",
        "    \n",
        "    gradients_of_generator = gen_tape.gradient(gen_loss, generator.trainable_variables)\n",
        "    gradients_of_discriminator = disc_tape.gradient(disc_loss, discriminator.trainable_variables)\n",
        "\n",
        "    generator_optimizer.apply_gradients(zip(gradients_of_generator, generator.trainable_variables))\n",
        "    discriminator_optimizer.apply_gradients(zip(gradients_of_discriminator, discriminator.trainable_variables))"
      ],
      "execution_count": 0,
      "outputs": []
    },
    {
      "cell_type": "code",
      "metadata": {
        "colab_type": "code",
        "id": "2M7LmLtGEMQJ",
        "colab": {}
      },
      "source": [
        "def train(dataset, epochs):\n",
        "  for epoch in range(epochs):\n",
        "    start = time.time()\n",
        "\n",
        "    for image_batch in dataset:\n",
        "      train_step(image_batch)\n",
        "    with train_summary_writer.as_default():\n",
        "      tf.summary.scalar('g_loss', G_loss.result(), step=epoch)\n",
        "      tf.summary.scalar('d_loss', D_loss.result(), step=epoch)\n",
        "\n",
        "    # Produce images for the GIF as we go\n",
        "    display.clear_output(wait=True)\n",
        "    generate_and_save_images(generator,\n",
        "                             epoch + 1,\n",
        "                             seed)\n",
        "\n",
        "    # Save the model every 10 epochs\n",
        "    if (epoch + 1) % 10 == 0:\n",
        "      checkpoint.save(file_prefix = checkpoint_prefix)\n",
        "\n",
        "    print ('Time for epoch {} is {} sec'.format(epoch + 1, time.time()-start))\n",
        "\n",
        "    G_loss.reset_states()\n",
        "    D_loss.reset_states()\n",
        "\n",
        "  # Generate after the final epoch\n",
        "  display.clear_output(wait=True)\n",
        "  generate_and_save_images(generator,\n",
        "                           epochs,\n",
        "                           seed)"
      ],
      "execution_count": 0,
      "outputs": []
    },
    {
      "cell_type": "markdown",
      "metadata": {
        "colab_type": "text",
        "id": "2aFF7Hk3XdeW"
      },
      "source": [
        "**Generate and save images**\n",
        "\n"
      ]
    },
    {
      "cell_type": "code",
      "metadata": {
        "colab_type": "code",
        "id": "RmdVsmvhPxyy",
        "colab": {}
      },
      "source": [
        "def generate_and_save_images(model, epoch, test_input):\n",
        "  # Notice `training` is set to False.\n",
        "  # This is so all layers run in inference mode (batchnorm).\n",
        "  predictions = model(test_input, training=False)\n",
        "\n",
        "  fig = plt.figure(figsize=(6,6))\n",
        "\n",
        "  for i in range(predictions.shape[0]):\n",
        "      plt.subplot(1, 1, i+1)\n",
        "      plt.imshow((np.array(predictions[i, :, :, :]) * 127.5 + 127.5).astype(int))\n",
        "      plt.axis('off')\n",
        "\n",
        "  plt.savefig('image_at_epoch_{:04d}.png'.format(epoch))\n",
        "  plt.show()"
      ],
      "execution_count": 0,
      "outputs": []
    },
    {
      "cell_type": "markdown",
      "metadata": {
        "colab_type": "text",
        "id": "luqerlCfaU-D"
      },
      "source": [
        "## Train the model"
      ]
    },
    {
      "cell_type": "code",
      "metadata": {
        "id": "aHqjqMb4Ql0r",
        "colab_type": "code",
        "colab": {}
      },
      "source": [
        "%tensorboard --logdir logs/gradient_tape"
      ],
      "execution_count": 0,
      "outputs": []
    },
    {
      "cell_type": "code",
      "metadata": {
        "colab_type": "code",
        "id": "Ly3UN0SLLY2l",
        "colab": {}
      },
      "source": [
        "%%time\n",
        "train(train_dataset, EPOCHS)"
      ],
      "execution_count": 0,
      "outputs": []
    },
    {
      "cell_type": "code",
      "metadata": {
        "id": "6BMQGiW_Kpw6",
        "colab_type": "code",
        "colab": {}
      },
      "source": [
        "!zip -r /content/checkpoints.zip /content/training_checkpoints2/"
      ],
      "execution_count": 0,
      "outputs": []
    },
    {
      "cell_type": "code",
      "metadata": {
        "id": "11pR0sdOJTZI",
        "colab_type": "code",
        "colab": {}
      },
      "source": [
        "try:\n",
        "  from google.colab import files\n",
        "except ImportError:\n",
        "   pass\n",
        "else:\n",
        "  files.download('checkpoints.zip')"
      ],
      "execution_count": 0,
      "outputs": []
    },
    {
      "cell_type": "markdown",
      "metadata": {
        "colab_type": "text",
        "id": "rfM4YcPVPkNO"
      },
      "source": [
        "Restore the latest checkpoint."
      ]
    },
    {
      "cell_type": "code",
      "metadata": {
        "colab_type": "code",
        "id": "XhXsd0srPo8c",
        "colab": {}
      },
      "source": [
        "checkpoint.restore(tf.train.latest_checkpoint(checkpoint_dir))"
      ],
      "execution_count": 0,
      "outputs": []
    },
    {
      "cell_type": "code",
      "metadata": {
        "id": "pg0V5ohvYsfW",
        "colab_type": "code",
        "colab": {}
      },
      "source": [
        "tf.train.latest_checkpoint(checkpoint_dir)"
      ],
      "execution_count": 0,
      "outputs": []
    },
    {
      "cell_type": "markdown",
      "metadata": {
        "colab_type": "text",
        "id": "P4M_vIbUi7c0"
      },
      "source": [
        "## Create a GIF\n"
      ]
    },
    {
      "cell_type": "code",
      "metadata": {
        "colab_type": "code",
        "id": "WfO5wCdclHGL",
        "colab": {}
      },
      "source": [
        "# Display a single image using the epoch number\n",
        "def display_image(epoch_no):\n",
        "  return PIL.Image.open('image_at_epoch_{:04d}.png'.format(epoch_no))"
      ],
      "execution_count": 0,
      "outputs": []
    },
    {
      "cell_type": "code",
      "metadata": {
        "colab_type": "code",
        "id": "5x3q9_Oe5q0A",
        "colab": {}
      },
      "source": [
        "display_image(500)"
      ],
      "execution_count": 0,
      "outputs": []
    },
    {
      "cell_type": "markdown",
      "metadata": {
        "colab_type": "text",
        "id": "NywiH3nL8guF"
      },
      "source": [
        "Use `imageio` to create an animated gif using the images saved during training."
      ]
    },
    {
      "cell_type": "code",
      "metadata": {
        "colab_type": "code",
        "id": "IGKQgENQ8lEI",
        "colab": {}
      },
      "source": [
        "anim_file = 'dcgan.gif'\n",
        "\n",
        "with imageio.get_writer(anim_file, mode='I') as writer:\n",
        "  filenames = glob.glob('image*.png')\n",
        "  filenames = sorted(filenames)\n",
        "  last = -1\n",
        "  for i,filename in enumerate(filenames):\n",
        "    frame = 2*(i**0.5)\n",
        "    if round(frame) > round(last):\n",
        "      last = frame\n",
        "    else:\n",
        "      continue\n",
        "    image = imageio.imread(filename)\n",
        "    writer.append_data(image)\n",
        "  image = imageio.imread(filename)\n",
        "  writer.append_data(image)\n",
        "\n",
        "import IPython\n",
        "if IPython.version_info > (6,2,0,''):\n",
        "  display.Image(filename=anim_file)"
      ],
      "execution_count": 0,
      "outputs": []
    },
    {
      "cell_type": "markdown",
      "metadata": {
        "colab_type": "text",
        "id": "cGhC3-fMWSwl"
      },
      "source": [
        "If you're working in Colab you can download the animation with the code below:"
      ]
    },
    {
      "cell_type": "code",
      "metadata": {
        "colab_type": "code",
        "id": "uV0yiKpzNP1b",
        "colab": {}
      },
      "source": [
        "try:\n",
        "  from google.colab import files\n",
        "except ImportError:\n",
        "   pass\n",
        "else:\n",
        "  files.download(anim_file)"
      ],
      "execution_count": 0,
      "outputs": []
    },
    {
      "cell_type": "markdown",
      "metadata": {
        "id": "xIOeob0gxQSE",
        "colab_type": "text"
      },
      "source": [
        "## Extract the Discriminator\n",
        "\n",
        "We extract the optimal discriminator, and use it to distinguish real and fake images.\n",
        "\n",
        "First, load in all the fake images generated via various methods. Also generate fake images using our own generator."
      ]
    },
    {
      "cell_type": "code",
      "metadata": {
        "id": "0XBe__dVxPBJ",
        "colab_type": "code",
        "colab": {}
      },
      "source": [
        "#Load in the fake images\n",
        "deepfake = process_images('deepfakes', 390)\n",
        "face2face = process_images('face2face', 390)\n",
        "faceswap = process_images('faceswap', 390)\n",
        "neuraltextures = process_images('neuraltextures', 390)"
      ],
      "execution_count": 0,
      "outputs": []
    },
    {
      "cell_type": "code",
      "metadata": {
        "id": "XjM8p4kf1aht",
        "colab_type": "code",
        "colab": {}
      },
      "source": [
        "generated_images = np.array(generator(tf.random.normal([10, noise_dim]), training=False))\n",
        "for i in range(38):\n",
        "  generated_images_next = np.array(generator(tf.random.normal([10, noise_dim]), training=False))\n",
        "  generated_images = np.concatenate((generated_images, generated_images_next), axis=0)\n",
        "generated_images.shape"
      ],
      "execution_count": 0,
      "outputs": []
    },
    {
      "cell_type": "code",
      "metadata": {
        "id": "HWTFKV6aq3FP",
        "colab_type": "code",
        "colab": {}
      },
      "source": [
        "def predictions(test):\n",
        "  pred = []\n",
        "  for i in range(test.shape[0]):\n",
        "    pred.append(discriminator(test[i].reshape(1,450,450,3))[0,0])  \n",
        "  return np.array(pred).flatten()\n",
        "\n",
        "def predictions_prob(test):\n",
        "  pred = []\n",
        "  for i in range(test.shape[0]):\n",
        "    pred.append(discriminator.predict_proba(test[i].reshape(1,450,450,3))[0,0])  \n",
        "  return np.array(pred).flatten()"
      ],
      "execution_count": 0,
      "outputs": []
    },
    {
      "cell_type": "code",
      "metadata": {
        "id": "jQHcFeg4r25g",
        "colab_type": "code",
        "colab": {}
      },
      "source": [
        "real_pred = predictions(real)\n",
        "deepfake_pred = predictions(deepfake)\n",
        "face2face_pred = predictions(face2face)\n",
        "faceswap_pred = predictions(faceswap)\n",
        "neuraltextures_pred = predictions(neuraltextures)\n",
        "generated_pred = predictions(generated_images)\n",
        "\n",
        "#real_pred_prob = predictions_prob(real)\n",
        "#deepfake_pred_prob = predictions_prob(deepfake)\n",
        "#face2face_pred_prob = predictions_prob(face2face)\n",
        "#faceswap_pred_prob = predictions_prob(faceswap)\n",
        "#neuraltextures_pred_prob = predictions_prob(neuraltextures)\n",
        "#generated_pred_prob = predictions_prob(generated_images)"
      ],
      "execution_count": 0,
      "outputs": []
    },
    {
      "cell_type": "code",
      "metadata": {
        "id": "Kr1OgegWa4yF",
        "colab_type": "code",
        "colab": {}
      },
      "source": [
        "#plt.figure(figsize=(12,6))\n",
        "#preds_prob=[real_pred_prob, deepfake_pred_prob, face2face_pred_prob, faceswap_pred_prob, neuraltextures_pred_prob, generated_pred_prob]\n",
        "#labels=['real', 'deepfake', 'face2face', 'faceswap', 'neuraltextures', 'generated']\n",
        "#for i in range(6):\n",
        "#  plt.hist(preds[i], 30,label = labels[i], alpha=0.7)\n",
        "#plt.title('Probabilistic Discriminator Output (separated by techniques)')\n",
        "#plt.legend()\n",
        "#plt.show()\n",
        "#plt.savefig('pred_separated.png')"
      ],
      "execution_count": 0,
      "outputs": []
    },
    {
      "cell_type": "code",
      "metadata": {
        "id": "nXsTTSI8k3Rd",
        "colab_type": "code",
        "colab": {}
      },
      "source": [
        "plt.figure(figsize=(12,6))\n",
        "preds=[real_pred, deepfake_pred, face2face_pred, faceswap_pred, neuraltextures_pred, generated_pred]\n",
        "labels=['real', 'deepfake', 'face2face', 'faceswap', 'neuraltextures', 'generated']\n",
        "for i in range(6):\n",
        "  plt.hist(preds[i], 30,label = labels[i], alpha=0.7)\n",
        "plt.title('Discriminator Output (separated by techniques)')\n",
        "plt.legend()\n",
        "#plt.show()\n",
        "plt.savefig('pred_separated500.png')\n",
        "\n",
        "try:\n",
        "  from google.colab import files\n",
        "except ImportError:\n",
        "   pass\n",
        "else:\n",
        "  files.download('pred_separated500.png')"
      ],
      "execution_count": 0,
      "outputs": []
    },
    {
      "cell_type": "code",
      "metadata": {
        "id": "qs3wQdk-2tPW",
        "colab_type": "code",
        "colab": {}
      },
      "source": [
        "fig,ax=plt.subplots(1,1,figsize=(16,6))\n",
        "\n",
        "ax.boxplot(preds)\n",
        "plt.xticks([1, 2, 3, 4, 5, 6], labels)\n",
        "plt.title('Discriminator Output (separated by techniques)')\n",
        "#plt.show()\n",
        "plt.savefig('pred_separated_box500.png')\n",
        "\n",
        "try:\n",
        "  from google.colab import files\n",
        "except ImportError:\n",
        "   pass\n",
        "else:\n",
        "  files.download('pred_separated_box500.png')"
      ],
      "execution_count": 0,
      "outputs": []
    },
    {
      "cell_type": "code",
      "metadata": {
        "id": "QE9B14AHz2rv",
        "colab_type": "code",
        "colab": {}
      },
      "source": [
        "plt.figure(figsize=(12,6))\n",
        "fake_preds=np.concatenate((deepfake_pred, face2face_pred, faceswap_pred, neuraltextures_pred))#, generated_pred))\n",
        "plt.hist(real_pred, 30,label = 'real', alpha=0.7, density=True)\n",
        "plt.hist(fake_preds, 30,label = 'fake', alpha=0.7, density=True)\n",
        "plt.title('Discriminator Output')\n",
        "plt.legend()\n",
        "#plt.show()\n",
        "plt.savefig('pred500.png')\n",
        "\n",
        "try:\n",
        "  from google.colab import files\n",
        "except ImportError:\n",
        "   pass\n",
        "else:\n",
        "  files.download('pred500.png')"
      ],
      "execution_count": 0,
      "outputs": []
    },
    {
      "cell_type": "code",
      "metadata": {
        "id": "s1dOimNok39v",
        "colab_type": "code",
        "colab": {}
      },
      "source": [
        "real_pred.mean(), fake_preds.mean()"
      ],
      "execution_count": 0,
      "outputs": []
    },
    {
      "cell_type": "code",
      "metadata": {
        "id": "lA0wabUIlMmA",
        "colab_type": "code",
        "colab": {}
      },
      "source": [
        "threshold = (real_pred.mean() + fake_preds.mean())/2\n",
        "threshold"
      ],
      "execution_count": 0,
      "outputs": []
    },
    {
      "cell_type": "code",
      "metadata": {
        "id": "U_tLjMn7lRY_",
        "colab_type": "code",
        "colab": {}
      },
      "source": [
        "real_output = np.array([1 if real_pred[i]>threshold else 0 for i in range(len(real_pred))])\n",
        "fake_output = np.array([1 if fake_preds[i]>threshold else 0 for i in range(len(fake_preds))])"
      ],
      "execution_count": 0,
      "outputs": []
    },
    {
      "cell_type": "code",
      "metadata": {
        "id": "92_5HUgPlysl",
        "colab_type": "code",
        "colab": {}
      },
      "source": [
        "y_true = np.concatenate((np.ones(len(real_pred)), np.zeros(len(fake_preds))))\n",
        "y_pred = np.concatenate((real_output, fake_output))"
      ],
      "execution_count": 0,
      "outputs": []
    },
    {
      "cell_type": "code",
      "metadata": {
        "id": "F-qaXH1glXiX",
        "colab_type": "code",
        "colab": {}
      },
      "source": [
        "accuracy_score(y_true, y_pred)"
      ],
      "execution_count": 0,
      "outputs": []
    },
    {
      "cell_type": "code",
      "metadata": {
        "id": "Q86CYhAnmJkB",
        "colab_type": "code",
        "colab": {}
      },
      "source": [
        "def epoch_tune(epoch):\n",
        "  checkpoint.restore('./training_checkpoints2/ckpt-'+str(epoch))\n",
        "  real_pred = predictions(real)\n",
        "  deepfake_pred = predictions(deepfake)\n",
        "  face2face_pred = predictions(face2face)\n",
        "  faceswap_pred = predictions(faceswap)\n",
        "  neuraltextures_pred = predictions(neuraltextures)\n",
        "  fake_preds=np.concatenate((deepfake_pred, face2face_pred, faceswap_pred, neuraltextures_pred))\n",
        "  threshold = (real_pred.mean() + fake_preds.mean())/2\n",
        "  real_output = np.array([1 if real_pred[i]>threshold else 0 for i in range(len(real_pred))])\n",
        "  fake_output = np.array([1 if fake_preds[i]>threshold else 0 for i in range(len(fake_preds))])\n",
        "  y_true = np.concatenate((np.ones(len(real_pred)), np.zeros(len(fake_preds))))\n",
        "  y_pred = np.concatenate((real_output, fake_output))\n",
        "\n",
        "  return accuracy_score(y_true, y_pred)"
      ],
      "execution_count": 0,
      "outputs": []
    },
    {
      "cell_type": "code",
      "metadata": {
        "id": "wamBG1ZAd8z7",
        "colab_type": "code",
        "colab": {}
      },
      "source": [
        "epochs = np.linspace(1, 50, 50, dtype='int')\n",
        "#diff_values = []\n",
        "acc_values = []\n",
        "for epoch in epochs:\n",
        "  print(epoch)\n",
        "  acc = epoch_tune(epoch)\n",
        "  acc_values.append(acc)"
      ],
      "execution_count": 0,
      "outputs": []
    },
    {
      "cell_type": "code",
      "metadata": {
        "id": "AJ37t0pdePsy",
        "colab_type": "code",
        "colab": {}
      },
      "source": [
        "plt.figure(figsize=(12,6))\n",
        "plt.plot(np.linspace(10, 500, 50, dtype='int'), diff_values, '-o')\n",
        "plt.xlabel('Epochs')\n",
        "plt.ylabel('Class Mean Separation')\n",
        "plt.title('Class mean separation during training')\n",
        "#plt.show()\n",
        "plt.savefig('meansep_train_500.png')\n",
        "\n",
        "try:\n",
        "  from google.colab import files\n",
        "except ImportError:\n",
        "   pass\n",
        "else:\n",
        "  files.download('meansep_train_500.png')"
      ],
      "execution_count": 0,
      "outputs": []
    },
    {
      "cell_type": "code",
      "metadata": {
        "id": "Tpjl2uLSeq2O",
        "colab_type": "code",
        "colab": {}
      },
      "source": [
        "plt.figure(figsize=(12,6))\n",
        "plt.plot(np.linspace(10, 500, 50, dtype='int'), acc_values)\n",
        "plt.xlabel('Epochs')\n",
        "plt.ylabel('Accuracy')\n",
        "plt.title('Validation accuracy during training')\n",
        "#plt.show()\n",
        "plt.savefig('acc_500.png')\n",
        "\n",
        "try:\n",
        "  from google.colab import files\n",
        "except ImportError:\n",
        "   pass\n",
        "else:\n",
        "  files.download('acc_500.png')"
      ],
      "execution_count": 0,
      "outputs": []
    },
    {
      "cell_type": "code",
      "metadata": {
        "id": "dvtFwFlGn55S",
        "colab_type": "code",
        "colab": {}
      },
      "source": [
        ""
      ],
      "execution_count": 0,
      "outputs": []
    }
  ]
}